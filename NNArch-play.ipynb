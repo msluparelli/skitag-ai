{
 "cells": [
  {
   "cell_type": "code",
   "execution_count": 1,
   "metadata": {},
   "outputs": [],
   "source": [
    "import importlib\n",
    "import numpy as np\n",
    "import DeepNNArch as ca"
   ]
  },
  {
   "cell_type": "code",
   "execution_count": 2,
   "metadata": {},
   "outputs": [],
   "source": [
    "importlib.reload(ca)\n",
    "deepcnn = ca.CNNarchitecture()"
   ]
  },
  {
   "cell_type": "code",
   "execution_count": 3,
   "metadata": {},
   "outputs": [],
   "source": [
    "image_input = np.zeros((80,80))\n",
    "\n",
    "# convolution layer, https://pytorch.org/docs/stable/generated/torch.nn.Conv2d.html\n",
    "# https://pytorch.org/docs/stable/generated/torch.nn.ConvTranspose2d.html\n",
    "conv_kernel = [2, 2, 2, 2, 2, 2, 2, 2, 2]\n",
    "conv_stride = [1, 2, 1, 2, 1, 2, 1, 2, 1]\n",
    "conv_padding = [0, 0, 0, 0, 0, 0, 0, 0, 0]\n",
    "conv_dilation = [1, 1, 1, 1, 1, 1, 1, 1, 1]\n",
    "\n",
    "# pooling layer, https://pytorch.org/docs/stable/generated/torch.nn.MaxPool2d.html\n",
    "pool_kernel = [2, 2, 2, 2, 2, 2, 2, 2, 2]\n",
    "pool_stride = [2, 1, 2, 1, 2, 1, 2, 1, 2]\n",
    "pool_padding = [0, 0, 0, 0, 0, 0, 0, 0, 0]\n",
    "pool_dilation = [1, 1, 1, 1, 1, 1, 1, 1, 1]"
   ]
  },
  {
   "cell_type": "code",
   "execution_count": 4,
   "metadata": {},
   "outputs": [
    {
     "name": "stdout",
     "output_type": "stream",
     "text": [
      "0 input layer 80 80\n",
      "1 conv layer 79 79\n",
      "1 pooling layer 39 39\n",
      "1 input layer 39 39\n",
      "2 conv layer 19 19\n",
      "2 pooling layer 18 18\n",
      "2 input layer 18 18\n",
      "3 conv layer 17 17\n",
      "3 pooling layer 8 8\n",
      "3 input layer 8 8\n",
      "4 conv layer 4 4\n",
      "4 pooling layer 3 3\n"
     ]
    },
    {
     "data": {
      "text/plain": [
       "[3, 3]"
      ]
     },
     "execution_count": 4,
     "metadata": {},
     "output_type": "execute_result"
    }
   ],
   "source": [
    "deepcnn.conv_architecture_torch(image_input, [conv_kernel, conv_kernel], \n",
    "                                [conv_stride, conv_stride], \n",
    "                                [conv_padding, conv_padding], \n",
    "                                [conv_dilation, conv_dilation], \n",
    "                                [pool_kernel, pool_kernel], \n",
    "                                [pool_stride, pool_stride],\n",
    "                                [pool_padding, pool_padding],\n",
    "                                [pool_dilation, pool_dilation],\n",
    "                                pooling=True)"
   ]
  },
  {
   "cell_type": "code",
   "execution_count": null,
   "metadata": {},
   "outputs": [],
   "source": []
  },
  {
   "cell_type": "code",
   "execution_count": null,
   "metadata": {},
   "outputs": [],
   "source": []
  }
 ],
 "metadata": {
  "kernelspec": {
   "display_name": "Python 3 (ipykernel)",
   "language": "python",
   "name": "python3"
  },
  "language_info": {
   "codemirror_mode": {
    "name": "ipython",
    "version": 3
   },
   "file_extension": ".py",
   "mimetype": "text/x-python",
   "name": "python",
   "nbconvert_exporter": "python",
   "pygments_lexer": "ipython3",
   "version": "3.10.11"
  }
 },
 "nbformat": 4,
 "nbformat_minor": 4
}
